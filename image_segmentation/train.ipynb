{
 "cells": [
  {
   "cell_type": "code",
   "execution_count": 1,
   "metadata": {},
   "outputs": [],
   "source": [
    "from dataset import PetsDataset\n",
    "from model import UNet\n",
    "from utils import train"
   ]
  },
  {
   "cell_type": "code",
   "execution_count": 2,
   "metadata": {},
   "outputs": [],
   "source": [
    "import torch\n",
    "from torch.utils.data import DataLoader, random_split"
   ]
  },
  {
   "cell_type": "code",
   "execution_count": 3,
   "metadata": {},
   "outputs": [],
   "source": [
    "DEVICE = \"cuda\" if torch.cuda.is_available() else \"cpu\""
   ]
  },
  {
   "cell_type": "markdown",
   "metadata": {},
   "source": [
    "# Hyperparameters"
   ]
  },
  {
   "cell_type": "code",
   "execution_count": 4,
   "metadata": {},
   "outputs": [],
   "source": [
    "NUM_EPOCHS = 20\n",
    "LEARNING_RATE = 3e-4\n",
    "BATCH_SIZE = 32"
   ]
  },
  {
   "cell_type": "markdown",
   "metadata": {},
   "source": [
    "# Load data"
   ]
  },
  {
   "cell_type": "code",
   "execution_count": 5,
   "metadata": {},
   "outputs": [],
   "source": [
    "trainval_set = PetsDataset(\"../data/\", split=\"trainval\")\n",
    "train_set, val_set = random_split(trainval_set, [0.75, 0.25], generator=torch.Generator().manual_seed(42))\n",
    "train_loader = DataLoader(train_set, batch_size=BATCH_SIZE, shuffle=True)\n",
    "val_loader = DataLoader(val_set, batch_size=BATCH_SIZE)"
   ]
  },
  {
   "cell_type": "markdown",
   "metadata": {},
   "source": [
    "# Training"
   ]
  },
  {
   "cell_type": "code",
   "execution_count": 6,
   "metadata": {},
   "outputs": [],
   "source": [
    "model = UNet(in_channels=3, num_classes=3).to(DEVICE)"
   ]
  },
  {
   "cell_type": "code",
   "execution_count": 7,
   "metadata": {},
   "outputs": [
    {
     "name": "stdout",
     "output_type": "stream",
     "text": [
      " 1/20: train_loss=0.6828, train_iou=0.5136, val_iou=0.5110, train_acc=0.8504, val_acc=0.8481\n",
      " 2/20: train_loss=0.5190, train_iou=0.5759, val_iou=0.5731, train_acc=0.8753, val_acc=0.8743\n",
      " 3/20: train_loss=0.4430, train_iou=0.6046, val_iou=0.6009, train_acc=0.8927, val_acc=0.8905\n",
      " 4/20: train_loss=0.4086, train_iou=0.6279, val_iou=0.6188, train_acc=0.8969, val_acc=0.8916\n",
      " 5/20: train_loss=0.3866, train_iou=0.6535, val_iou=0.6410, train_acc=0.9079, val_acc=0.9017\n",
      " 6/20: train_loss=0.3607, train_iou=0.6587, val_iou=0.6455, train_acc=0.9097, val_acc=0.9027\n",
      " 7/20: train_loss=0.3347, train_iou=0.6821, val_iou=0.6626, train_acc=0.9210, val_acc=0.9118\n",
      " 8/20: train_loss=0.3247, train_iou=0.6863, val_iou=0.6668, train_acc=0.9221, val_acc=0.9124\n",
      " 9/20: train_loss=0.3116, train_iou=0.7005, val_iou=0.6794, train_acc=0.9279, val_acc=0.9175\n",
      "10/20: train_loss=0.2942, train_iou=0.7081, val_iou=0.6791, train_acc=0.9295, val_acc=0.9159\n",
      "11/20: train_loss=0.2833, train_iou=0.7165, val_iou=0.6855, train_acc=0.9345, val_acc=0.9206\n",
      "12/20: train_loss=0.2631, train_iou=0.7329, val_iou=0.6943, train_acc=0.9371, val_acc=0.9200\n",
      "13/20: train_loss=0.2505, train_iou=0.7380, val_iou=0.6961, train_acc=0.9393, val_acc=0.9213\n",
      "14/20: train_loss=0.2390, train_iou=0.7422, val_iou=0.6970, train_acc=0.9411, val_acc=0.9213\n",
      "15/20: train_loss=0.2275, train_iou=0.7414, val_iou=0.6893, train_acc=0.9413, val_acc=0.9192\n",
      "16/20: train_loss=0.2196, train_iou=0.7617, val_iou=0.7066, train_acc=0.9481, val_acc=0.9254\n",
      "17/20: train_loss=0.2081, train_iou=0.7648, val_iou=0.7034, train_acc=0.9487, val_acc=0.9234\n",
      "18/20: train_loss=0.2063, train_iou=0.7627, val_iou=0.7051, train_acc=0.9480, val_acc=0.9242\n",
      "19/20: train_loss=0.1919, train_iou=0.7841, val_iou=0.7097, train_acc=0.9547, val_acc=0.9258\n",
      "20/20: train_loss=0.1988, train_iou=0.7719, val_iou=0.7013, train_acc=0.9509, val_acc=0.9224\n"
     ]
    }
   ],
   "source": [
    "logger = train(model, train_loader, val_loader, NUM_EPOCHS, LEARNING_RATE, DEVICE)\n",
    "torch.save(model.state_dict(), \"../pretrained/pets_unet_e20.pt\")"
   ]
  },
  {
   "cell_type": "code",
   "execution_count": 8,
   "metadata": {},
   "outputs": [],
   "source": [
    "# Save training log to csv\n",
    "rows = []\n",
    "for mode, metrics in logger.items():\n",
    "    for i, (iou, acc) in enumerate(zip(metrics[\"iou\"], metrics[\"acc\"])):\n",
    "        rows.append((i, mode, iou, acc))\n",
    "\n",
    "with open(\"../logs/training_log.csv\", \"w\") as f:\n",
    "    f.write(\"epoch,mode,loss,iou,acc\\n\")\n",
    "    for row in rows:\n",
    "        f.write(\",\".join(str(value) for value in row) + \"\\n\")"
   ]
  }
 ],
 "metadata": {
  "kernelspec": {
   "display_name": ".venv",
   "language": "python",
   "name": "python3"
  },
  "language_info": {
   "codemirror_mode": {
    "name": "ipython",
    "version": 3
   },
   "file_extension": ".py",
   "mimetype": "text/x-python",
   "name": "python",
   "nbconvert_exporter": "python",
   "pygments_lexer": "ipython3",
   "version": "3.11.7"
  }
 },
 "nbformat": 4,
 "nbformat_minor": 2
}
